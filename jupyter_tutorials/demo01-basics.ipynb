{
 "cells": [
  {
   "cell_type": "markdown",
   "metadata": {},
   "source": [
    "# Demo No. 1: Hello binary!"
   ]
  },
  {
   "cell_type": "markdown",
   "metadata": {},
   "source": [
    "This set of tutorials will guide you trough the basic structure of this package. This particular demo will show you how to build your binary system and access its basic parameters."
   ]
  },
  {
   "cell_type": "markdown",
   "metadata": {},
   "source": [
    "## Import correct modules"
   ]
  },
  {
   "cell_type": "markdown",
   "metadata": {},
   "source": [
    "Objects modelled in our first binary system are divided into two groups:\n",
    "* system - binary system,\n",
    "* compoents - stars.\n",
    "\n",
    "Each of those object types have to be imported separatelly using the following imports:   "
   ]
  },
  {
   "cell_type": "code",
   "execution_count": 1,
   "metadata": {},
   "outputs": [
    {
     "name": "stderr",
     "output_type": "stream",
     "text": [
      "/home/data/ELISA_project/elisa/src/elisa/conf/settings.py:395: DeprecationWarning: Variable `atlas` in configuration section `support` is not longer supported and will be removed in future version.\n",
      "Use atmosphere definition as initial parameter for given celestial object\n",
      "  warnings.warn(\"Variable `atlas` in configuration section `support` is not \"\n"
     ]
    }
   ],
   "source": [
    "from elisa import BinarySystem\n",
    "from elisa import Star"
   ]
  },
  {
   "cell_type": "markdown",
   "metadata": {},
   "source": [
    "## Setting up the components"
   ]
  },
  {
   "cell_type": "markdown",
   "metadata": {},
   "source": [
    "Now we can initialize components with their respective parameters. Values of gravity farkening exponents, albedos and metalicities are optional and the default values will be assigned to them in case of their absence. Gravity darkening and bolometric albedo are interpolated based on Figure 6 in Claret (2003) and Figure 2 in Claret (2001). Metallicity is kept fixed on solar values by default. Lets define the primary and secondary component:"
   ]
  },
  {
   "cell_type": "code",
   "execution_count": 2,
   "metadata": {},
   "outputs": [],
   "source": [
    "from astropy import units as u\n",
    "\n",
    "primary = Star(\n",
    "    mass=2.15 * u.solMass,\n",
    "    surface_potential=3.6,\n",
    "    synchronicity=1.0,\n",
    "    t_eff=10000 * u.K,\n",
    "    gravity_darkening=1.0, # optional argument, otherwise interpolated\n",
    "    discretization_factor=5,  # angular size (in degrees) of the surface elements, optional\n",
    "    albedo=0.6,  # optional argument, otherwise interpolated\n",
    "    metallicity=0.0  # optional argument  \n",
    ")\n",
    "\n",
    "secondary = Star(\n",
    "    mass=0.45 * u.solMass,\n",
    "    surface_potential=5.39,\n",
    "    synchronicity=1.0,\n",
    "    t_eff=6500 * u.K,\n",
    ")"
   ]
  },
  {
   "cell_type": "markdown",
   "metadata": {},
   "source": [
    "Component parameters can be also set and modified separatelly using setters:"
   ]
  },
  {
   "cell_type": "code",
   "execution_count": 3,
   "metadata": {},
   "outputs": [],
   "source": [
    "primary.synchronicity = 1.0"
   ]
  },
  {
   "cell_type": "markdown",
   "metadata": {},
   "source": [
    "and accesed via getters:"
   ]
  },
  {
   "cell_type": "code",
   "execution_count": 4,
   "metadata": {},
   "outputs": [
    {
     "data": {
      "text/plain": "1.0"
     },
     "execution_count": 4,
     "metadata": {},
     "output_type": "execute_result"
    }
   ],
   "source": [
    "primary.synchronicity"
   ]
  },
  {
   "cell_type": "markdown",
   "metadata": {},
   "source": [
    "As soon as the components are defined, we can set up BinarySystem instance:"
   ]
  },
  {
   "cell_type": "code",
   "execution_count": 5,
   "metadata": {},
   "outputs": [
    {
     "name": "stdout",
     "output_type": "stream",
     "text": [
      "2022-10-17 14:34:09,065 - 835424 - binary_system.system - INFO: initialising object BinarySystem\n",
      "2022-10-17 14:34:09,097 - 835424 - binary_system.system - INFO: setting discretization factor of secondary component to 8.00 according to discretization factor of the companion.\n"
     ]
    }
   ],
   "source": [
    "bs = BinarySystem(\n",
    "    primary=primary,\n",
    "    secondary=secondary,\n",
    "    argument_of_periastron=58 * u.deg,\n",
    "    gamma=-30.7 * u.km / u.s,\n",
    "    period=2.5 * u.d,\n",
    "    eccentricity=0.0,\n",
    "    inclination=85 * u.deg,\n",
    "    primary_minimum_time=2440000.00000 * u.d,\n",
    "    phase_shift=0.0,\n",
    "    distance = 153 * u.pc\n",
    ")\n"
   ]
  },
  {
   "cell_type": "markdown",
   "metadata": {},
   "source": [
    "where again, parameters can be accesed and overwriten using getters and setters"
   ]
  },
  {
   "cell_type": "code",
   "execution_count": 6,
   "metadata": {},
   "outputs": [
    {
     "data": {
      "text/plain": "0.1"
     },
     "execution_count": 6,
     "metadata": {},
     "output_type": "execute_result"
    }
   ],
   "source": [
    "bs.eccentricity = 0.1\n",
    "bs.eccentricity"
   ]
  },
  {
   "cell_type": "markdown",
   "metadata": {},
   "source": [
    "Changing of any system or stellar parameters require re-initialization of the `BinarySystem`. Re-initialization also makes sure that the system with new parameters is physically valid and can be built. Re-initialization of the binary system instance `bs` can be done in the following manner way:"
   ]
  },
  {
   "cell_type": "code",
   "execution_count": 7,
   "metadata": {},
   "outputs": [
    {
     "name": "stdout",
     "output_type": "stream",
     "text": [
      "2022-10-17 14:34:15,621 - 835424 - binary_system.system - INFO: initialising object BinarySystem\n",
      "2022-10-17 14:34:15,639 - 835424 - astropy - WARNING: AstropyDeprecationWarning: The truth value of a Quantity is ambiguous. In the future this will raise a ValueError.\n"
     ]
    },
    {
     "name": "stderr",
     "output_type": "stream",
     "text": [
      "WARNING: AstropyDeprecationWarning: The truth value of a Quantity is ambiguous. In the future this will raise a ValueError. [astropy.units.quantity]\n"
     ]
    }
   ],
   "source": [
    "bs.init()"
   ]
  },
  {
   "cell_type": "markdown",
   "metadata": {},
   "source": [
    "We can also have a look on the interolated gravity darkening factor and albedo on the secondary component:"
   ]
  },
  {
   "cell_type": "code",
   "execution_count": 8,
   "metadata": {},
   "outputs": [
    {
     "data": {
      "text/plain": "(0.7126008613327499, 0.5302088904333047)"
     },
     "execution_count": 8,
     "metadata": {},
     "output_type": "execute_result"
    }
   ],
   "source": [
    "bs.secondary.albedo, bs.secondary.gravity_darkening"
   ]
  },
  {
   "cell_type": "code",
   "execution_count": 9,
   "metadata": {},
   "outputs": [
    {
     "data": {
      "text/plain": "<elisa.units._DefaultBinarySystemUnits at 0x7f525aaab850>"
     },
     "execution_count": 9,
     "metadata": {},
     "output_type": "execute_result"
    }
   ],
   "source": [
    "bs.default_internal_units"
   ]
  },
  {
   "cell_type": "markdown",
   "metadata": {},
   "source": [
    "## Accesing parameters"
   ]
  },
  {
   "cell_type": "markdown",
   "metadata": {},
   "source": [
    "Finally, after binary system initialization, we can acces basic properties of our system such as semi-major axis,  morphology, and radii:"
   ]
  },
  {
   "cell_type": "code",
   "execution_count": 10,
   "metadata": {},
   "outputs": [
    {
     "data": {
      "text/plain": "10.659024832175282"
     },
     "execution_count": 10,
     "metadata": {},
     "output_type": "execute_result"
    }
   ],
   "source": [
    "bs.semi_major_axis*bs.default_internal_units.system.semi_major_axis.to(u.solRad)  # conversion to solar radii"
   ]
  },
  {
   "cell_type": "markdown",
   "metadata": {},
   "source": [
    "morphology of the system can be also displayed:"
   ]
  },
  {
   "cell_type": "code",
   "execution_count": 11,
   "metadata": {},
   "outputs": [
    {
     "data": {
      "text/plain": "'detached'"
     },
     "execution_count": 11,
     "metadata": {},
     "output_type": "execute_result"
    }
   ],
   "source": [
    "bs.morphology"
   ]
  },
  {
   "cell_type": "markdown",
   "metadata": {},
   "source": [
    "along with radii of the components in default SMA (semi major axis) units:"
   ]
  },
  {
   "cell_type": "code",
   "execution_count": 12,
   "metadata": {},
   "outputs": [
    {
     "name": "stdout",
     "output_type": "stream",
     "text": [
      "Polar radius: 0.29391569123711786\n",
      "Side radius: 0.29861793999676073\n",
      "Backward radius: 0.30153964149907264\n",
      "Forward radius: 0.30346500951048827\n",
      "Equivalent radius: 0.29801981218086737\n"
     ]
    }
   ],
   "source": [
    "print(f'Polar radius: {primary.polar_radius}')\n",
    "print(f'Side radius: {primary.side_radius}')\n",
    "print(f'Backward radius: {primary.backward_radius}')\n",
    "print(f'Forward radius: {primary.forward_radius}')\n",
    "print(f'Equivalent radius: {primary.equivalent_radius}')"
   ]
  },
  {
   "cell_type": "markdown",
   "metadata": {},
   "source": [
    "Values for critical potentials for each component can be accessed using these getters:"
   ]
  },
  {
   "cell_type": "code",
   "execution_count": 13,
   "metadata": {},
   "outputs": [
    {
     "name": "stdout",
     "output_type": "stream",
     "text": [
      "Critical potential for primary component: 2.4269724166520685\n",
      "Critical potential for secondary component: 2.440275836628986\n"
     ]
    }
   ],
   "source": [
    "print(f'Critical potential for primary component: {primary.critical_surface_potential}')\n",
    "print(f'Critical potential for secondary component: {secondary.critical_surface_potential}')"
   ]
  },
  {
   "cell_type": "markdown",
   "metadata": {},
   "source": [
    "*Note that critical potential values are not the same due to eccentricity is set on value 0.1. Those values are critical potentials during periastron passage."
   ]
  },
  {
   "cell_type": "markdown",
   "metadata": {},
   "source": [
    "## Initializing binary system from a dictionary (json)"
   ]
  },
  {
   "cell_type": "markdown",
   "metadata": {},
   "source": [
    "Instances of a `BinarySystem` can be also initialized using a dictionary of parameters that can be stored in a json format. This approach enables to define a system using different combination of parameters. Currently, the `standard` and `community` format are available. To achieve this, we can use `BinarySystem.from_json()` function:"
   ]
  },
  {
   "cell_type": "code",
   "execution_count": 14,
   "metadata": {},
   "outputs": [
    {
     "name": "stdout",
     "output_type": "stream",
     "text": [
      "2022-10-17 14:34:26,548 - 835424 - binary_system.system - INFO: initialising object BinarySystem\n"
     ]
    }
   ],
   "source": [
    "standard_params = {\n",
    "    \"system\": {\n",
    "        \"inclination\": 90.0,\n",
    "        \"period\": 10.1,\n",
    "        \"argument_of_periastron\": \"90.0 deg\",  # string representation of astropy quantity is also valid\n",
    "        \"gamma\": 0.0,\n",
    "        \"eccentricity\": 0.3,\n",
    "        \"primary_minimum_time\": 0.0,\n",
    "        \"phase_shift\": 0.0,\n",
    "        \"distance\": \"153 pc\"\n",
    "    },\n",
    "    \"primary\": {\n",
    "        \"mass\": \"4.0e30 kg\",\n",
    "        \"surface_potential\": 7.1,\n",
    "        \"synchronicity\": 1.0,\n",
    "        \"t_eff\": 6500.0,\n",
    "        \"gravity_darkening\": 1.0,\n",
    "        \"discretization_factor\": 5,\n",
    "        \"albedo\": 1.0,\n",
    "        \"metallicity\": 0.0\n",
    "    },\n",
    "    \"secondary\": {\n",
    "        \"mass\": 2.0,  # default unit is solMass\"\n",
    "        \"surface_potential\": 7.1,\n",
    "        \"synchronicity\": 1.0,\n",
    "        \"t_eff\": 6500.0,\n",
    "        \"gravity_darkening\": 1.0,\n",
    "        \"discretization_factor\": 5,\n",
    "        \"albedo\": 1.0,\n",
    "        \"metallicity\": 0.0\n",
    "    }\n",
    "}\n",
    "standard_binary = BinarySystem.from_json(standard_params)"
   ]
  },
  {
   "cell_type": "markdown",
   "metadata": {},
   "source": [
    "`standard`format of parameters requires masses of the components, whereas the `community` format requires parameters `mass_ratio` and `semi_major_axis` instead to define a system:"
   ]
  },
  {
   "cell_type": "code",
   "execution_count": 15,
   "metadata": {},
   "outputs": [
    {
     "name": "stdout",
     "output_type": "stream",
     "text": [
      "2022-10-17 14:34:27,448 - 835424 - binary_system.system - INFO: initialising object BinarySystem\n"
     ]
    }
   ],
   "source": [
    "community_params = {\n",
    "    \"system\": {\n",
    "        \"inclination\": 90.0,\n",
    "        \"period\": 10.1,\n",
    "        \"argument_of_periastron\": 90.0,\n",
    "        \"gamma\": 0.0,\n",
    "        \"eccentricity\": 0.3,\n",
    "        \"primary_minimum_time\": 0.0,\n",
    "        \"phase_shift\": 0.0,\n",
    "        \"semi_major_axis\": 10.5,  # default unit is solRad\n",
    "        \"mass_ratio\": 0.5,\n",
    "        \"distance\": \"153 pc\"\n",
    "    },\n",
    "    \"primary\": {\n",
    "        \"surface_potential\": 7.1,\n",
    "        \"synchronicity\": 1.0,\n",
    "        \"t_eff\": \"6500.0 K\",\n",
    "        \"gravity_darkening\": 1.0,\n",
    "        \"discretization_factor\": 5,\n",
    "        \"albedo\": 1.0,\n",
    "        \"metallicity\": 0.0\n",
    "    },\n",
    "    \"secondary\": {\n",
    "        \"surface_potential\": 7.1,\n",
    "        \"synchronicity\": 1.0,\n",
    "        \"t_eff\": 6500.0,\n",
    "        \"gravity_darkening\": 1.0,\n",
    "        \"discretization_factor\": 5,\n",
    "        \"albedo\": 1.0,\n",
    "        \"metallicity\": 0.0\n",
    "    }\n",
    "}\n",
    "\n",
    "community_binary = BinarySystem.from_json(community_params)"
   ]
  },
  {
   "cell_type": "markdown",
   "metadata": {},
   "source": [
    "## Acessing units of binary system parameters"
   ]
  },
  {
   "cell_type": "markdown",
   "metadata": {},
   "source": [
    "To avoid mass confusion, ELISa uses default units to perform calculations in the backend. Module `elisa.units` stores deafult units that ELISa uses internally. Eg.:"
   ]
  },
  {
   "cell_type": "code",
   "execution_count": 16,
   "metadata": {},
   "outputs": [
    {
     "data": {
      "text/plain": "(Unit(\"m\"), Unit(\"d\"))"
     },
     "execution_count": 16,
     "metadata": {},
     "output_type": "execute_result"
    }
   ],
   "source": [
    "from elisa import units\n",
    "\n",
    "units.DISTANCE_UNIT, units.PERIOD_UNIT"
   ]
  },
  {
   "cell_type": "markdown",
   "metadata": {},
   "source": [
    "Additionally, internal units of each binary system parameter can be acessed:"
   ]
  },
  {
   "cell_type": "code",
   "execution_count": 17,
   "metadata": {},
   "outputs": [
    {
     "data": {
      "text/plain": "(Unit(\"rad\"), Unit(\"kg\"))"
     },
     "execution_count": 17,
     "metadata": {},
     "output_type": "execute_result"
    }
   ],
   "source": [
    "bs.default_internal_units.system.inclination, bs.default_internal_units.primary.mass"
   ]
  },
  {
   "cell_type": "markdown",
   "metadata": {},
   "source": [
    "The set of whole set of parameters can be acessed at once:"
   ]
  },
  {
   "cell_type": "code",
   "execution_count": 18,
   "metadata": {
    "scrolled": true
   },
   "outputs": [
    {
     "data": {
      "text/plain": "{'system': {'inclination': 'rad',\n  'period': 'd',\n  'eccentricity': '',\n  'argument_of_periastron': 'rad',\n  'gamma': 'm / s',\n  'phase_shift': '',\n  'additional_light': '',\n  'primary_minimum_time': 'd',\n  'semi_major_axis': 'm',\n  'distance': 'm',\n  'mass_ratio': ''},\n 'component': {'mass': 'kg',\n  't_eff': 'K',\n  'surface_potential': '',\n  'synchronicity': '',\n  'metallicity': '',\n  'gravity_darkening': '',\n  'albedo': '',\n  'discretization_factor': 'rad',\n  'limb_darkening_coefficients': '',\n  'spots': {'longitude': 'rad',\n   'latitude': 'rad',\n   'angular_radius': 'rad',\n   'temperature_factor': '',\n   'discretization_factor': 'rad'},\n  'pulsations': {'l': '',\n   'm': '',\n   'amplitude': 'm / s',\n   'frequency': 'Hz',\n   'start_phase': 'rad',\n   'mode_axis_theta': 'rad',\n   'mode_axis_phi': 'rad',\n   'temperature_perturbation_phase_shift': 'rad',\n   'horizontal_to_radial_amplitude_ratio': '',\n   'temperature_amplitude_factor': '',\n   'tidally_locked': \"<class 'bool'>\"}},\n 'primary': {'mass': 'kg',\n  't_eff': 'K',\n  'surface_potential': '',\n  'synchronicity': '',\n  'metallicity': '',\n  'gravity_darkening': '',\n  'albedo': '',\n  'discretization_factor': 'rad',\n  'limb_darkening_coefficients': '',\n  'spots': {'longitude': 'rad',\n   'latitude': 'rad',\n   'angular_radius': 'rad',\n   'temperature_factor': '',\n   'discretization_factor': 'rad'},\n  'pulsations': {'l': '',\n   'm': '',\n   'amplitude': 'm / s',\n   'frequency': 'Hz',\n   'start_phase': 'rad',\n   'mode_axis_theta': 'rad',\n   'mode_axis_phi': 'rad',\n   'temperature_perturbation_phase_shift': 'rad',\n   'horizontal_to_radial_amplitude_ratio': '',\n   'temperature_amplitude_factor': '',\n   'tidally_locked': \"<class 'bool'>\"}},\n 'secondary': {'mass': 'kg',\n  't_eff': 'K',\n  'surface_potential': '',\n  'synchronicity': '',\n  'metallicity': '',\n  'gravity_darkening': '',\n  'albedo': '',\n  'discretization_factor': 'rad',\n  'limb_darkening_coefficients': '',\n  'spots': {'longitude': 'rad',\n   'latitude': 'rad',\n   'angular_radius': 'rad',\n   'temperature_factor': '',\n   'discretization_factor': 'rad'},\n  'pulsations': {'l': '',\n   'm': '',\n   'amplitude': 'm / s',\n   'frequency': 'Hz',\n   'start_phase': 'rad',\n   'mode_axis_theta': 'rad',\n   'mode_axis_phi': 'rad',\n   'temperature_perturbation_phase_shift': 'rad',\n   'horizontal_to_radial_amplitude_ratio': '',\n   'temperature_amplitude_factor': '',\n   'tidally_locked': \"<class 'bool'>\"}}}"
     },
     "execution_count": 18,
     "metadata": {},
     "output_type": "execute_result"
    }
   ],
   "source": [
    "bs.default_internal_units.as_dict()"
   ]
  },
  {
   "cell_type": "markdown",
   "metadata": {},
   "source": [
    "However, internal binary system units are not ideal for the user to define binary system parameters. Therefore, default input units of the BinarySystem instance (if unit is not specified) can be accessed in similar fashion:"
   ]
  },
  {
   "cell_type": "code",
   "execution_count": 19,
   "metadata": {},
   "outputs": [
    {
     "data": {
      "text/plain": "(Unit(\"deg\"), Unit(\"solMass\"))"
     },
     "execution_count": 19,
     "metadata": {},
     "output_type": "execute_result"
    }
   ],
   "source": [
    "bs.default_input_units.system.inclination, bs.default_input_units.primary.mass"
   ]
  },
  {
   "cell_type": "markdown",
   "metadata": {},
   "source": [
    "Here is the set of all input units:"
   ]
  },
  {
   "cell_type": "code",
   "execution_count": 20,
   "metadata": {
    "scrolled": true
   },
   "outputs": [
    {
     "data": {
      "text/plain": "{'system': {'inclination': 'deg',\n  'period': 'd',\n  'eccentricity': '',\n  'argument_of_periastron': 'deg',\n  'gamma': 'm / s',\n  'phase_shift': '',\n  'additional_light': '',\n  'primary_minimum_time': 'd',\n  'semi_major_axis': 'solRad',\n  'distance': 'pc',\n  'mass_ratio': ''},\n 'component': {'mass': 'solMass',\n  't_eff': 'K',\n  'surface_potential': '',\n  'synchronicity': '',\n  'metallicity': '',\n  'gravity_darkening': '',\n  'albedo': '',\n  'discretization_factor': 'deg',\n  'limb_darkening_coefficients': '',\n  'spots': {'longitude': 'deg',\n   'latitude': 'deg',\n   'angular_radius': 'deg',\n   'temperature_factor': '',\n   'discretization_factor': 'deg'},\n  'pulsations': {'l': '',\n   'm': '',\n   'amplitude': 'm / s',\n   'frequency': '1 / d',\n   'start_phase': 'rad',\n   'mode_axis_theta': 'deg',\n   'mode_axis_phi': 'deg',\n   'temperature_perturbation_phase_shift': 'rad',\n   'horizontal_to_radial_amplitude_ratio': '',\n   'temperature_amplitude_factor': '',\n   'tidally_locked': \"<class 'bool'>\"}},\n 'primary': {'mass': 'solMass',\n  't_eff': 'K',\n  'surface_potential': '',\n  'synchronicity': '',\n  'metallicity': '',\n  'gravity_darkening': '',\n  'albedo': '',\n  'discretization_factor': 'deg',\n  'limb_darkening_coefficients': '',\n  'spots': {'longitude': 'deg',\n   'latitude': 'deg',\n   'angular_radius': 'deg',\n   'temperature_factor': '',\n   'discretization_factor': 'deg'},\n  'pulsations': {'l': '',\n   'm': '',\n   'amplitude': 'm / s',\n   'frequency': '1 / d',\n   'start_phase': 'rad',\n   'mode_axis_theta': 'deg',\n   'mode_axis_phi': 'deg',\n   'temperature_perturbation_phase_shift': 'rad',\n   'horizontal_to_radial_amplitude_ratio': '',\n   'temperature_amplitude_factor': '',\n   'tidally_locked': \"<class 'bool'>\"}},\n 'secondary': {'mass': 'solMass',\n  't_eff': 'K',\n  'surface_potential': '',\n  'synchronicity': '',\n  'metallicity': '',\n  'gravity_darkening': '',\n  'albedo': '',\n  'discretization_factor': 'deg',\n  'limb_darkening_coefficients': '',\n  'spots': {'longitude': 'deg',\n   'latitude': 'deg',\n   'angular_radius': 'deg',\n   'temperature_factor': '',\n   'discretization_factor': 'deg'},\n  'pulsations': {'l': '',\n   'm': '',\n   'amplitude': 'm / s',\n   'frequency': '1 / d',\n   'start_phase': 'rad',\n   'mode_axis_theta': 'deg',\n   'mode_axis_phi': 'deg',\n   'temperature_perturbation_phase_shift': 'rad',\n   'horizontal_to_radial_amplitude_ratio': '',\n   'temperature_amplitude_factor': '',\n   'tidally_locked': \"<class 'bool'>\"}}}"
     },
     "execution_count": 20,
     "metadata": {},
     "output_type": "execute_result"
    }
   ],
   "source": [
    "bs.default_input_units.as_dict()"
   ]
  },
  {
   "cell_type": "markdown",
   "metadata": {},
   "source": [
    "and finally, a set of only system input units:"
   ]
  },
  {
   "cell_type": "code",
   "execution_count": 21,
   "metadata": {},
   "outputs": [
    {
     "data": {
      "text/plain": "{'inclination': 'deg',\n 'period': 'd',\n 'eccentricity': '',\n 'argument_of_periastron': 'deg',\n 'gamma': 'm / s',\n 'phase_shift': '',\n 'additional_light': '',\n 'primary_minimum_time': 'd',\n 'semi_major_axis': 'solRad',\n 'distance': 'pc',\n 'mass_ratio': ''}"
     },
     "execution_count": 21,
     "metadata": {},
     "output_type": "execute_result"
    }
   ],
   "source": [
    "bs.default_input_units.system.as_dict()"
   ]
  },
  {
   "cell_type": "code",
   "execution_count": 21,
   "metadata": {},
   "outputs": [],
   "source": []
  },
  {
   "cell_type": "markdown",
   "metadata": {},
   "source": [
    "## References:"
   ]
  },
  {
   "cell_type": "markdown",
   "metadata": {},
   "source": [
    "- Claret, A. 2001, MNRAS. 327, 989–994\n",
    "- Claret, A. 2003, A&A 406, 623–628"
   ]
  },
  {
   "cell_type": "code",
   "execution_count": null,
   "metadata": {},
   "outputs": [],
   "source": []
  }
 ],
 "metadata": {
  "kernelspec": {
   "display_name": "Python 3 (ipykernel)",
   "language": "python",
   "name": "python3"
  },
  "language_info": {
   "codemirror_mode": {
    "name": "ipython",
    "version": 3
   },
   "file_extension": ".py",
   "mimetype": "text/x-python",
   "name": "python",
   "nbconvert_exporter": "python",
   "pygments_lexer": "ipython3",
   "version": "3.8.10"
  },
  "pycharm": {
   "stem_cell": {
    "cell_type": "raw",
    "metadata": {
     "collapsed": false
    },
    "source": []
   }
  }
 },
 "nbformat": 4,
 "nbformat_minor": 4
}
